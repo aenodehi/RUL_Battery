{
 "cells": [
  {
   "cell_type": "code",
   "execution_count": null,
   "metadata": {},
   "outputs": [],
   "source": [
    "df = pd.read_csv(\"/home/workspace/data/B0005_discharge_adjusted.csv\", index_col = \"datetime_\", parse_dates = True)\n",
    "\n",
    "df.head()"
   ]
  },
  {
   "cell_type": "code",
   "execution_count": null,
   "metadata": {},
   "outputs": [],
   "source": [
    "df_cycle_2[\"discharge_cycle_id\"] = (df_cycle_2[\"cycle\"] // 2).astype(int)  # Maps 2→1, 4→2, 6→3, etc."
   ]
  },
  {
   "cell_type": "code",
   "execution_count": null,
   "metadata": {},
   "outputs": [],
   "source": [
    "cycle_features = df_cycle_2.groupby(\"discharge_cycle_id\").agg({\n",
    "    \"Voltage_measured\": [\"mean\", \"min\", \"max\"],\n",
    "    \"Current_measured\": [\"mean\", \"max\"],\n",
    "    \"Temperature_measured\": [\"mean\", \"max\"],\n",
    "    \"Time\": [\"max\"],       # Total discharge time (target)\n",
    "    \"Capacity\": [\"max\"]     # Remaining capacity (target)\n",
    "}).reset_index()\n",
    "cycle_features.columns = [\n",
    "    \"discharge_cycle_id\",\n",
    "    \"voltage_mean\", \"voltage_min\", \"voltage_max\",\n",
    "    \"current_mean\", \"current_max\",\n",
    "    \"temperature_mean\", \"temperature_max\",\n",
    "    \"time_total\", \"capacity\"\n",
    "]"
   ]
  },
  {
   "cell_type": "code",
   "execution_count": null,
   "metadata": {},
   "outputs": [],
   "source": [
    "import numpy as np\n",
    "from tensorflow.keras.models import Model\n",
    "from tensorflow.keras.layers import LSTM, Dense, Input\n",
    "\n",
    "# Create sequences (e.g., use 3 past cycles to predict the next)\n",
    "sequence_length = 3\n",
    "X, y = [], []\n",
    "for i in range(len(cycle_features) - sequence_length):\n",
    "    X.append(cycle_features.iloc[i:i+sequence_length][[\n",
    "        \"voltage_mean\", \"current_mean\", \"temperature_mean\", \n",
    "        \"time_total\", \"capacity\"\n",
    "    ]].values)\n",
    "    y.append(cycle_features.iloc[i+sequence_length][[\"time_total\", \"capacity\"]].values)\n",
    "X, y = np.array(X), np.array(y)\n",
    "\n",
    "# Build LSTM model\n",
    "inputs = Input(shape=(sequence_length, X.shape[2]))\n",
    "x = LSTM(64, return_sequences=True)(inputs)\n",
    "x = LSTM(32)(x)\n",
    "outputs = Dense(2)(x)  # Predict both Time and Capacity\n",
    "model = Model(inputs=inputs, outputs=outputs)\n",
    "model.compile(optimizer=\"adam\", loss=\"mse\")\n",
    "model.fit(X, y, epochs=100)"
   ]
  },
  {
   "cell_type": "code",
   "execution_count": null,
   "metadata": {},
   "outputs": [],
   "source": [
    "from xgboost import XGBRegressor\n",
    "\n",
    "# Features: Metrics from past cycles + cycle number\n",
    "X = cycle_features[[\"voltage_mean\", \"current_mean\", \"discharge_cycle_id\"]]\n",
    "y_time = cycle_features[\"time_total\"]\n",
    "y_capacity = cycle_features[\"capacity\"]\n",
    "\n",
    "# Train separate models\n",
    "model_time = XGBRegressor().fit(X, y_time)\n",
    "model_capacity = XGBRegressor().fit(X, y_capacity)"
   ]
  },
  {
   "cell_type": "code",
   "execution_count": null,
   "metadata": {},
   "outputs": [],
   "source": [
    "# For LSTM\n",
    "last_sequence = X[-1].reshape(1, sequence_length, -1)\n",
    "pred_time, pred_capacity = model.predict(last_sequence)[0]\n",
    "\n",
    "# For XGBoost\n",
    "next_cycle_features = np.array([[voltage_mean, current_mean, discharge_cycle_id + 1]])\n",
    "pred_time = model_time.predict(next_cycle_features)\n",
    "pred_capacity = model_capacity.predict(next_cycle_features)"
   ]
  },
  {
   "cell_type": "code",
   "execution_count": null,
   "metadata": {},
   "outputs": [],
   "source": [
    "cycle_features[\"capacity_fade\"] = cycle_features[\"capacity\"].iloc[0] - cycle_features[\"capacity\"]"
   ]
  },
  {
   "cell_type": "code",
   "execution_count": null,
   "metadata": {},
   "outputs": [],
   "source": [
    "for i in range(sequence_length, len(cycle_features)):\n",
    "    train = cycle_features.iloc[:i]\n",
    "    test = cycle_features.iloc[i]\n",
    "    # Train and evaluate incrementally"
   ]
  },
  {
   "cell_type": "code",
   "execution_count": null,
   "metadata": {},
   "outputs": [],
   "source": []
  }
 ],
 "metadata": {
  "language_info": {
   "name": "python"
  }
 },
 "nbformat": 4,
 "nbformat_minor": 2
}
